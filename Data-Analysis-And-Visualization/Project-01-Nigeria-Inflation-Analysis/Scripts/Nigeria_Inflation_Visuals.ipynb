{
 "cells": [
  {
   "cell_type": "markdown",
   "id": "5ed3c4b8-fdaa-4603-b132-19a516c00a0f",
   "metadata": {},
   "source": [
    "# Visuals"
   ]
  },
  {
   "cell_type": "markdown",
   "id": "f85f3941-a98b-4b31-8c80-21023d66afe9",
   "metadata": {},
   "source": [
    "### Import necessary Libraries"
   ]
  },
  {
   "cell_type": "code",
   "execution_count": null,
   "id": "3271eba6-f9a3-4918-84a4-c0f4a3c17642",
   "metadata": {},
   "outputs": [],
   "source": [
    "import pandas as pd\n",
    "import warnings\n",
    "warnings.filterwarnings('ignore')\n",
    "import matplotlib.pyplot as plt\n",
    "import calendar\n",
    "import seaborn as sns"
   ]
  },
  {
   "cell_type": "markdown",
   "id": "785e2246-541e-49cd-80f8-5e84918e6334",
   "metadata": {},
   "source": [
    "### Load Dataset"
   ]
  },
  {
   "cell_type": "code",
   "execution_count": null,
   "id": "88ddca71-43bf-4ce3-9d85-0f12878d6c19",
   "metadata": {},
   "outputs": [],
   "source": [
    "# Load Dataset\n",
    "df = pd.read_csv(\"NigeriaInflationRates_2015_to_2023.csv\")\n",
    "\n",
    "# View first 5 rows\n",
    "#print(df.sample(5))"
   ]
  },
  {
   "cell_type": "markdown",
   "id": "8756aa9f-4eb0-412f-86ca-41bbaab8facd",
   "metadata": {},
   "source": [
    "#### Calculating average inflation for each month \n",
    "And ploting a line chart showing seasonal inflation trends across the year.\n",
    "Revealing recurring monthly inflation patterns.\n"
   ]
  },
  {
   "cell_type": "code",
   "execution_count": null,
   "id": "1dce8659-fa28-4f49-9ba0-6d975fbd6fbc",
   "metadata": {
    "scrolled": true
   },
   "outputs": [],
   "source": [
    "# Ensure months are in proper order\n",
    "month_order = list(calendar.month_abbr)[1:]\n",
    "df['Month'] = pd.Categorical(df['Month'], categories=month_order, ordered=True)\n",
    "\n",
    "# Average inflation per month\n",
    "monthly_trend = df.groupby('Month')['Inflation_Rate'].mean().reset_index()\n",
    "\n",
    "plt.figure(figsize=(10,5))\n",
    "plt.plot(monthly_trend['Month'], monthly_trend['Inflation_Rate'], marker='o')\n",
    "plt.title('Average Inflation by Month (Seasonal Trend)')\n",
    "plt.ylabel('Inflation Rate (%)')\n",
    "plt.xlabel('Month')\n",
    "plt.grid(True)\n",
    "plt.show()"
   ]
  },
  {
   "cell_type": "markdown",
   "id": "07f6c094-39da-4f5c-9535-d060b1fc2210",
   "metadata": {},
   "source": [
    "#### Calculating and plots the average inflation rate for each year (2015–2023)\n",
    "Ensuring no missing years. visualizing long-term inflation trends over time."
   ]
  },
  {
   "cell_type": "code",
   "execution_count": null,
   "id": "a548b8aa-d55c-4bf7-b8db-5fd210f76157",
   "metadata": {},
   "outputs": [],
   "source": [
    "# Define all years\n",
    "all_years = pd.DataFrame({'Year': range(2015, 2023)})\n",
    "\n",
    "# Calculate yearly average inflation\n",
    "yearly_trend = df.groupby('Year')['Inflation_Rate'].mean().reset_index()\n",
    "\n",
    "# Merge with full year range to ensure all years are included\n",
    "yearly_trend = pd.merge(all_years, yearly_trend, on='Year', how='left')\n",
    "\n",
    "# Plot\n",
    "plt.figure(figsize=(10,5))\n",
    "plt.plot(yearly_trend['Year'], yearly_trend['Inflation_Rate'], marker='o', color='green')\n",
    "plt.title('Average Yearly Inflation')\n",
    "plt.ylabel('Inflation Rate (%)')\n",
    "plt.xlabel('Year')\n",
    "plt.xticks(yearly_trend['Year'])  # ensure all years show on x-axis\n",
    "plt.grid(True)\n",
    "plt.show()"
   ]
  },
  {
   "cell_type": "markdown",
   "id": "fd3d7639-597a-4f6f-9491-8fad83f4152d",
   "metadata": {},
   "source": [
    "#### Creating a heatmap  to show inflation rates by year and month.\n",
    "making it easy to spot periods of high and low inflation. \n",
    "Using a pivot table and color intensity to visualize inflation trends over time."
   ]
  },
  {
   "cell_type": "code",
   "execution_count": null,
   "id": "35f9110a-944a-4b95-9bb9-3774d5efde60",
   "metadata": {},
   "outputs": [],
   "source": [
    "# Create a pivot table with years as rows, months as columns, and inflation rates as values\n",
    "pivot = df.pivot(index='Year', columns='Month', values='Inflation_Rate')\n",
    "\n",
    "# Create a figure with specified dimensions (width=12, height=6 inches)\n",
    "plt.figure(figsize=(12,6))\n",
    "\n",
    "# Generate a heatmap visualization using the pivot table data\n",
    "sns.heatmap(pivot, cmap='YlOrRd', annot=True, fmt=\".1f\")\n",
    "\n",
    "# Add a title to the heatmap\n",
    "plt.title('Inflation Heatmap by Year & Month')\n",
    "\n",
    "# Display the visualization\n",
    "plt.show()"
   ]
  },
  {
   "cell_type": "markdown",
   "id": "1ec6e067-d2f1-4c29-8728-01b22f8a9f57",
   "metadata": {},
   "source": [
    "#### Visualizing correlations between inflation, crude oil variables, and CPI categories. \n",
    "Showing how strongly each factor relates to inflation, highlighting key economic drivers."
   ]
  },
  {
   "cell_type": "code",
   "execution_count": null,
   "id": "5206fabe-64fd-409d-897d-3f7b59f2e0c2",
   "metadata": {},
   "outputs": [],
   "source": [
    "# Calculate correlation matrix between inflation rate, crude oil price, production, export and all CPI columns\n",
    "# Round correlation values to 2 decimal \n",
    "corr = df[['Inflation_Rate','Crude Oil Price',\n",
    "           'Production','Crude Oil Export'] + [col for col in df.columns if col.startswith('CPI_')]].corr().round(2)\n",
    "\n",
    "# Create a figure with specified size for better visualization\n",
    "plt.figure(figsize=(12,8))\n",
    "# Generate a heatmap of the correlation matrix with numerical annotations and a color gradient\n",
    "sns.heatmap(corr, annot=True, cmap='coolwarm')\n",
    "# Add a descriptive title to the plot\n",
    "plt.title('Correlation Between Inflation & Economic Variables')\n",
    "# Display the visualization\n",
    "plt.show()"
   ]
  },
  {
   "cell_type": "markdown",
   "id": "5ff04e12-a393-4209-9dd8-1530c35982ed",
   "metadata": {},
   "source": [
    "#### Creating a dual-axis plot comparing inflation rates and crude oil prices over the years. \n",
    "Showing changes in oil prices relate to inflation trends."
   ]
  },
  {
   "cell_type": "code",
   "execution_count": null,
   "id": "9bcbf070-2054-4a5c-87a5-34df2736d3a0",
   "metadata": {},
   "outputs": [],
   "source": [
    "# Sort by Year to ensure correct order\n",
    "df_sorted = df.sort_values('Year')\n",
    "\n",
    "# Dual-axis plot\n",
    "fig, ax1 = plt.subplots(figsize=(10,4))\n",
    "\n",
    "ax1.plot(df_sorted['Year'], df_sorted['Inflation_Rate'], color='blue', marker='o', label='Inflation Rate')\n",
    "ax1.set_xlabel('Year')\n",
    "ax1.set_ylabel('Inflation Rate (%)', color='blue')\n",
    "ax1.tick_params(axis='y', labelcolor='blue')\n",
    "ax1.set_xticks(range(2015, 2024))\n",
    "\n",
    "ax2 = ax1.twinx()\n",
    "ax2.plot(df_sorted['Year'], df_sorted['Crude Oil Price'], color='red', marker='x', label='Crude Oil Price')\n",
    "ax2.set_ylabel('Crude Oil Price', color='red')\n",
    "ax2.tick_params(axis='y', labelcolor='red')\n",
    "\n",
    "plt.title('Inflation vs Crude Oil Price')\n",
    "fig.tight_layout()\n",
    "plt.show()"
   ]
  },
  {
   "cell_type": "markdown",
   "id": "6fcbb98f-4a99-4333-84fc-fb68e464d1ff",
   "metadata": {},
   "source": [
    "#### Calculating and plots the year-over-year percentage change in average inflation. \n",
    "Highlighting how inflation growth or decline varies from one year to the next."
   ]
  },
  {
   "cell_type": "code",
   "execution_count": null,
   "id": "3f8c151b-5741-40fe-8f55-021b74a4fecb",
   "metadata": {},
   "outputs": [],
   "source": [
    "# Group yearly average inflation\n",
    "yearly_avg = df.groupby('Year')['Inflation_Rate'].mean().reset_index()\n",
    "\n",
    "# Sort by Year just to be safe\n",
    "yearly_avg = yearly_avg.sort_values('Year')\n",
    "\n",
    "# Calculate YoY change\n",
    "yearly_avg['Year-over-Year_Change'] = yearly_avg['Inflation_Rate'].pct_change() * 100\n",
    "\n",
    "# Fill first year YoY with 0\n",
    "yearly_avg['Year-over-Year_Change'].iloc[0] = 0\n",
    "\n",
    "# Plot bar chart\n",
    "plt.figure(figsize=(10,4))\n",
    "plt.bar(yearly_avg['Year'], yearly_avg['Year-over-Year_Change'], color='orange')\n",
    "baseline_year = yearly_avg['Year'].min()\n",
    "plt.text(\n",
    "    baseline_year,                 \n",
    "    0,                    \n",
    "    \"Baseline Year\",      \n",
    "    ha='center', color='gold', fontsize=10, fontstyle='normal'\n",
    ")\n",
    "plt.title('Year-over-Year Inflation Change (%)')\n",
    "plt.ylabel('Year-over-Year Change (%)')\n",
    "plt.xlabel('Year')\n",
    "plt.xticks(yearly_avg['Year'])\n",
    "plt.show()"
   ]
  },
  {
   "cell_type": "markdown",
   "id": "7e0589fb-67c2-4f0a-acae-e48bb331bd2c",
   "metadata": {},
   "source": [
    "#### Ploting a histogram show how inflation rates are distributed over time. \n",
    "Identifying the most frequent inflation levels and detect extreme values or outliers."
   ]
  },
  {
   "cell_type": "code",
   "execution_count": null,
   "id": "3accf2b3-b6cb-4791-8f19-629e656e0ace",
   "metadata": {},
   "outputs": [],
   "source": [
    "# Create a figure \n",
    "plt.figure(figsize=(8,5))\n",
    "# Create a histogram of inflation rates\n",
    "plt.hist(df['Inflation_Rate'], bins=10, edgecolor='black', alpha=0.7)\n",
    "# Add a title to the histogram\n",
    "plt.title('Distribution of Inflation Rate Over Time')\n",
    "# Label the x-axis\n",
    "plt.xlabel('Inflation Rate (%)')\n",
    "# Label the y-axis\n",
    "plt.ylabel('Frequency')\n",
    "# Add horizontal grid lines\n",
    "plt.grid(axis='y', linestyle='--', alpha=0.6)\n",
    "# Display the plot\n",
    "plt.show()"
   ]
  },
  {
   "cell_type": "markdown",
   "id": "dd915c90-be44-429e-a131-411c0a2eb464",
   "metadata": {},
   "source": [
    "#### Creating a pie chart showing the average contribution of each CPI component. \n",
    "Visualizing which sectors (like food or energy) most influence overall inflation."
   ]
  },
  {
   "cell_type": "code",
   "execution_count": null,
   "id": "d5b46e9c-da26-4363-953c-15f9e5a9d5e4",
   "metadata": {},
   "outputs": [],
   "source": [
    "# CPI columns\n",
    "cpi_columns = ['CPI_Food', 'CPI_Energy', 'CPI_Health', 'CPI_Transport', 'CPI_Communication', 'CPI_Education']\n",
    "\n",
    "# Average of each CPI component\n",
    "cpi_avg = df[cpi_columns].mean()\n",
    "\n",
    "# Pie chart\n",
    "plt.figure(figsize=(7,7))\n",
    "plt.pie(\n",
    "    cpi_avg,\n",
    "    labels=cpi_avg.index,\n",
    "    autopct='%1.1f%%',\n",
    "    startangle=140,\n",
    "    shadow=True\n",
    ")\n",
    "plt.title('Composition of CPI Components (Average Contribution)')\n",
    "plt.tight_layout()\n",
    "plt.show()"
   ]
  },
  {
   "cell_type": "code",
   "execution_count": null,
   "id": "67d7c343-d9ab-4636-be2b-f6264fcc7880",
   "metadata": {},
   "outputs": [],
   "source": []
  }
 ],
 "metadata": {
  "kernelspec": {
   "display_name": "Python [conda env:base] *",
   "language": "python",
   "name": "conda-base-py"
  },
  "language_info": {
   "codemirror_mode": {
    "name": "ipython",
    "version": 3
   },
   "file_extension": ".py",
   "mimetype": "text/x-python",
   "name": "python",
   "nbconvert_exporter": "python",
   "pygments_lexer": "ipython3",
   "version": "3.13.5"
  }
 },
 "nbformat": 4,
 "nbformat_minor": 5
}
