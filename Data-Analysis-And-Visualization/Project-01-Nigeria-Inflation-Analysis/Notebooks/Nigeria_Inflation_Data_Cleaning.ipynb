{
 "cells": [
  {
   "cell_type": "markdown",
   "id": "425cbea3-f8ad-4d69-86d5-a16d74bc8bc4",
   "metadata": {},
   "source": [
    "# Nigeria Inflation Data Cleaning\n",
    "## cleaning and prepare the dataset for analysis."
   ]
  },
  {
   "cell_type": "markdown",
   "id": "7643f75d-0bc2-482e-a8de-cea47af2b30f",
   "metadata": {},
   "source": [
    "### Import necessary Libraries"
   ]
  },
  {
   "cell_type": "code",
   "execution_count": 1,
   "id": "19a6f6b7-00e7-489b-9616-c41321f73b19",
   "metadata": {},
   "outputs": [],
   "source": [
    "# Import Libraries\n",
    "import calendar\n",
    "import pandas as pd\n",
    "import numpy as np\n",
    "import warnings\n",
    "warnings.filterwarnings('ignore')\n",
    "from scipy.stats import zscore"
   ]
  },
  {
   "cell_type": "markdown",
   "id": "86d7f985-40f8-4b88-a85f-e368e3b5c666",
   "metadata": {},
   "source": [
    "### Loading Dataset"
   ]
  },
  {
   "cell_type": "code",
   "execution_count": 2,
   "id": "f6a261a8-5a88-4bfc-9d1b-46749cf3c4bd",
   "metadata": {},
   "outputs": [
    {
     "name": "stdout",
     "output_type": "stream",
     "text": [
      "   Year  Month  Inflation_Rate  Crude Oil Price  Production  Crude Oil Export  \\\n",
      "0  2008      1             8.6            94.26        2.17              1.72   \n",
      "1  2008      2             8.0            98.15        2.08              1.63   \n",
      "2  2008      3             7.8           103.73        2.06              1.61   \n",
      "3  2008      4             8.2           116.73        1.96              1.51   \n",
      "4  2008      5             9.7           126.57        2.05              1.60   \n",
      "\n",
      "    CPI_Food  CPI_Energy  CPI_Health  CPI_Transport  CPI_Communication  \\\n",
      "0  75.534431   84.612846   83.863139      86.530038          83.129440   \n",
      "1  75.154185   85.231632   83.365891      88.355236          82.889814   \n",
      "2  78.242523   83.251516   86.082993      84.376304          81.893471   \n",
      "3  79.434268   84.348830   89.445332      88.600334          93.937865   \n",
      "4  80.783677   85.574027   90.540461      87.932833          97.553285   \n",
      "\n",
      "   CPI_Education  \n",
      "0      75.284466  \n",
      "1      75.457619  \n",
      "2      74.826847  \n",
      "3      73.664248  \n",
      "4      74.880442  \n"
     ]
    }
   ],
   "source": [
    "# Load Dataset\n",
    "df = pd.read_csv(\"NigeriaInflationRates.csv\")\n",
    "\n",
    "# View first 5 rows\n",
    "print(df.head(5))"
   ]
  },
  {
   "cell_type": "markdown",
   "id": "1dd4c3a1-a8cf-4af4-9637-430d7839d580",
   "metadata": {},
   "source": [
    "### Checking Missing Values"
   ]
  },
  {
   "cell_type": "code",
   "execution_count": 3,
   "id": "33a8189b-e481-4147-a6be-7f1c1a07a29d",
   "metadata": {},
   "outputs": [
    {
     "data": {
      "text/plain": [
       "Year                 0\n",
       "Month                0\n",
       "Inflation_Rate       0\n",
       "Crude Oil Price      1\n",
       "Production           1\n",
       "Crude Oil Export     1\n",
       "CPI_Food             0\n",
       "CPI_Energy           0\n",
       "CPI_Health           0\n",
       "CPI_Transport        0\n",
       "CPI_Communication    0\n",
       "CPI_Education        0\n",
       "dtype: int64"
      ]
     },
     "execution_count": 3,
     "metadata": {},
     "output_type": "execute_result"
    }
   ],
   "source": [
    "# Checking for missing total values\n",
    "df.isnull().sum()"
   ]
  },
  {
   "cell_type": "markdown",
   "id": "225642c0-b8e6-43c9-bb88-87488082202c",
   "metadata": {},
   "source": [
    "### Handling Missing Values"
   ]
  },
  {
   "cell_type": "code",
   "execution_count": 4,
   "id": "7f54fcda-8e4d-4c25-8e36-88c38dc34580",
   "metadata": {},
   "outputs": [
    {
     "data": {
      "text/html": [
       "<div>\n",
       "<style scoped>\n",
       "    .dataframe tbody tr th:only-of-type {\n",
       "        vertical-align: middle;\n",
       "    }\n",
       "\n",
       "    .dataframe tbody tr th {\n",
       "        vertical-align: top;\n",
       "    }\n",
       "\n",
       "    .dataframe thead th {\n",
       "        text-align: right;\n",
       "    }\n",
       "</style>\n",
       "<table border=\"1\" class=\"dataframe\">\n",
       "  <thead>\n",
       "    <tr style=\"text-align: right;\">\n",
       "      <th></th>\n",
       "      <th>Year</th>\n",
       "      <th>Month</th>\n",
       "      <th>Crude Oil Price</th>\n",
       "      <th>Production</th>\n",
       "      <th>Crude Oil Export</th>\n",
       "    </tr>\n",
       "  </thead>\n",
       "  <tbody>\n",
       "    <tr>\n",
       "      <th>183</th>\n",
       "      <td>2023</td>\n",
       "      <td>4</td>\n",
       "      <td>NaN</td>\n",
       "      <td>NaN</td>\n",
       "      <td>NaN</td>\n",
       "    </tr>\n",
       "  </tbody>\n",
       "</table>\n",
       "</div>"
      ],
      "text/plain": [
       "     Year  Month  Crude Oil Price  Production  Crude Oil Export\n",
       "183  2023      4              NaN         NaN               NaN"
      ]
     },
     "execution_count": 4,
     "metadata": {},
     "output_type": "execute_result"
    }
   ],
   "source": [
    "# Filter rows with any missing values to display specific columns\n",
    "df[df.isna().any(axis=1)][['Year', 'Month', 'Crude Oil Price', 'Production', 'Crude Oil Export']]"
   ]
  },
  {
   "cell_type": "markdown",
   "id": "968f417a-57a4-4e6a-beaf-071ab9442990",
   "metadata": {},
   "source": [
    "### Apr 2023 has missing values for 'Crude Oil Price', 'Production', 'Crude Oil Export'"
   ]
  },
  {
   "cell_type": "code",
   "execution_count": 5,
   "id": "c6faacd4-1ece-4b4a-a474-061b6e4fd0e5",
   "metadata": {},
   "outputs": [
    {
     "data": {
      "text/html": [
       "<div>\n",
       "<style scoped>\n",
       "    .dataframe tbody tr th:only-of-type {\n",
       "        vertical-align: middle;\n",
       "    }\n",
       "\n",
       "    .dataframe tbody tr th {\n",
       "        vertical-align: top;\n",
       "    }\n",
       "\n",
       "    .dataframe thead th {\n",
       "        text-align: right;\n",
       "    }\n",
       "</style>\n",
       "<table border=\"1\" class=\"dataframe\">\n",
       "  <thead>\n",
       "    <tr style=\"text-align: right;\">\n",
       "      <th></th>\n",
       "      <th>Year</th>\n",
       "      <th>Month</th>\n",
       "      <th>Inflation_Rate</th>\n",
       "      <th>Crude Oil Price</th>\n",
       "      <th>Production</th>\n",
       "      <th>Crude Oil Export</th>\n",
       "      <th>CPI_Food</th>\n",
       "      <th>CPI_Energy</th>\n",
       "      <th>CPI_Health</th>\n",
       "      <th>CPI_Transport</th>\n",
       "      <th>CPI_Communication</th>\n",
       "      <th>CPI_Education</th>\n",
       "    </tr>\n",
       "  </thead>\n",
       "  <tbody>\n",
       "    <tr>\n",
       "      <th>183</th>\n",
       "      <td>2023</td>\n",
       "      <td>4</td>\n",
       "      <td>22.22</td>\n",
       "      <td>86.57</td>\n",
       "      <td>1.0</td>\n",
       "      <td>0.55</td>\n",
       "      <td>640.043131</td>\n",
       "      <td>444.157193</td>\n",
       "      <td>409.360422</td>\n",
       "      <td>472.364875</td>\n",
       "      <td>226.482519</td>\n",
       "      <td>410.271828</td>\n",
       "    </tr>\n",
       "  </tbody>\n",
       "</table>\n",
       "</div>"
      ],
      "text/plain": [
       "     Year  Month  Inflation_Rate  Crude Oil Price  Production  \\\n",
       "183  2023      4           22.22            86.57         1.0   \n",
       "\n",
       "     Crude Oil Export    CPI_Food  CPI_Energy  CPI_Health  CPI_Transport  \\\n",
       "183              0.55  640.043131  444.157193  409.360422     472.364875   \n",
       "\n",
       "     CPI_Communication  CPI_Education  \n",
       "183         226.482519     410.271828  "
      ]
     },
     "execution_count": 5,
     "metadata": {},
     "output_type": "execute_result"
    }
   ],
   "source": [
    "# Fill missing April 2023 values with official CBN data\n",
    "df.loc[(df['Year'] == 2023) & (df['Month'] == 4), ['Crude Oil Price', 'Production', 'Crude Oil Export']] = [86.57, 1.0, 0.55]\n",
    "\n",
    "# Confirm update\n",
    "df.loc[(df['Year'] == 2023) & (df['Month'] == 4)]"
   ]
  },
  {
   "cell_type": "markdown",
   "id": "e98b166c-176a-4042-8191-3bb13a46129a",
   "metadata": {},
   "source": [
    "### Checking The Overall Information Of The Data"
   ]
  },
  {
   "cell_type": "code",
   "execution_count": 6,
   "id": "cdae5436-1e25-4b1f-8c58-c5a292b9cae3",
   "metadata": {},
   "outputs": [
    {
     "name": "stdout",
     "output_type": "stream",
     "text": [
      "<class 'pandas.core.frame.DataFrame'>\n",
      "RangeIndex: 198 entries, 0 to 197\n",
      "Data columns (total 12 columns):\n",
      " #   Column             Non-Null Count  Dtype  \n",
      "---  ------             --------------  -----  \n",
      " 0   Year               198 non-null    int64  \n",
      " 1   Month              198 non-null    int64  \n",
      " 2   Inflation_Rate     198 non-null    float64\n",
      " 3   Crude Oil Price    198 non-null    float64\n",
      " 4   Production         198 non-null    float64\n",
      " 5   Crude Oil Export   198 non-null    float64\n",
      " 6   CPI_Food           198 non-null    float64\n",
      " 7   CPI_Energy         198 non-null    float64\n",
      " 8   CPI_Health         198 non-null    float64\n",
      " 9   CPI_Transport      198 non-null    float64\n",
      " 10  CPI_Communication  198 non-null    float64\n",
      " 11  CPI_Education      198 non-null    float64\n",
      "dtypes: float64(10), int64(2)\n",
      "memory usage: 18.7 KB\n"
     ]
    }
   ],
   "source": [
    "# Get overall info\n",
    "df.info()"
   ]
  },
  {
   "cell_type": "markdown",
   "id": "9c781ac1-8f8d-44ae-a9b0-47649dfc35e9",
   "metadata": {},
   "source": [
    "### Checking For Duplicates "
   ]
  },
  {
   "cell_type": "code",
   "execution_count": 7,
   "id": "eb1d9b03-ad5d-4d70-b0a1-7998dd4725ef",
   "metadata": {},
   "outputs": [
    {
     "data": {
      "text/plain": [
       "np.int64(0)"
      ]
     },
     "execution_count": 7,
     "metadata": {},
     "output_type": "execute_result"
    }
   ],
   "source": [
    "#Check if there are duplicate rows\n",
    "df.duplicated().sum()"
   ]
  },
  {
   "cell_type": "markdown",
   "id": "af3b5e41-ba92-498e-a452-a1a01816d38b",
   "metadata": {},
   "source": [
    "### Checking The Data Shape"
   ]
  },
  {
   "cell_type": "code",
   "execution_count": 8,
   "id": "02a05a39-8a73-4e0d-8a32-1a8870470311",
   "metadata": {},
   "outputs": [
    {
     "data": {
      "text/plain": [
       "(198, 12)"
      ]
     },
     "execution_count": 8,
     "metadata": {},
     "output_type": "execute_result"
    }
   ],
   "source": [
    "# checking the number of rows and columns \n",
    "df.shape"
   ]
  },
  {
   "cell_type": "markdown",
   "id": "48b6e60c-10ca-403f-be66-b5a379718888",
   "metadata": {},
   "source": [
    "### Confirming If The Missing Value Was Handled Perfectly "
   ]
  },
  {
   "cell_type": "code",
   "execution_count": 9,
   "id": "9c8014cd-c256-4583-a8d0-fb588e29d3bc",
   "metadata": {},
   "outputs": [
    {
     "data": {
      "text/plain": [
       "Year                 0\n",
       "Month                0\n",
       "Inflation_Rate       0\n",
       "Crude Oil Price      0\n",
       "Production           0\n",
       "Crude Oil Export     0\n",
       "CPI_Food             0\n",
       "CPI_Energy           0\n",
       "CPI_Health           0\n",
       "CPI_Transport        0\n",
       "CPI_Communication    0\n",
       "CPI_Education        0\n",
       "dtype: int64"
      ]
     },
     "execution_count": 9,
     "metadata": {},
     "output_type": "execute_result"
    }
   ],
   "source": [
    "# rechecking after handling the missing value \n",
    "df.isnull().sum()"
   ]
  },
  {
   "cell_type": "markdown",
   "id": "03c0d00b-e335-42c1-a89f-e86d75e74877",
   "metadata": {},
   "source": [
    "### Checking For  data Columns Data Type"
   ]
  },
  {
   "cell_type": "code",
   "execution_count": 10,
   "id": "61c1b53b-ac3e-49fd-acc2-0a9adcadee47",
   "metadata": {},
   "outputs": [
    {
     "data": {
      "text/plain": [
       "Year                   int64\n",
       "Month                  int64\n",
       "Inflation_Rate       float64\n",
       "Crude Oil Price      float64\n",
       "Production           float64\n",
       "Crude Oil Export     float64\n",
       "CPI_Food             float64\n",
       "CPI_Energy           float64\n",
       "CPI_Health           float64\n",
       "CPI_Transport        float64\n",
       "CPI_Communication    float64\n",
       "CPI_Education        float64\n",
       "dtype: object"
      ]
     },
     "execution_count": 10,
     "metadata": {},
     "output_type": "execute_result"
    }
   ],
   "source": [
    "# checking the data type of each column\n",
    "df.dtypes"
   ]
  },
  {
   "cell_type": "markdown",
   "id": "7e5ffc1f-fb26-4ac9-8766-f04b12264468",
   "metadata": {},
   "source": [
    "### Creating  Datetime Object By Combining Year and Month Columns"
   ]
  },
  {
   "cell_type": "code",
   "execution_count": 11,
   "id": "12f8dc17-3950-42e5-824b-eac626bff627",
   "metadata": {},
   "outputs": [],
   "source": [
    "# combining Year and Month into a single Date column\n",
    "# The assign(Day=1) adds a Day column with value 1 to create complete dates\n",
    "df['Date'] = pd.to_datetime(df[['Year', 'Month']].assign(Day=1))"
   ]
  },
  {
   "cell_type": "markdown",
   "id": "19781e3c-d10c-4002-88c0-128781503983",
   "metadata": {},
   "source": [
    "### Cross Checking If Date Column Was Added"
   ]
  },
  {
   "cell_type": "code",
   "execution_count": 12,
   "id": "9516d326-8ece-4e07-840b-7de7ff5badda",
   "metadata": {},
   "outputs": [
    {
     "data": {
      "text/html": [
       "<div>\n",
       "<style scoped>\n",
       "    .dataframe tbody tr th:only-of-type {\n",
       "        vertical-align: middle;\n",
       "    }\n",
       "\n",
       "    .dataframe tbody tr th {\n",
       "        vertical-align: top;\n",
       "    }\n",
       "\n",
       "    .dataframe thead th {\n",
       "        text-align: right;\n",
       "    }\n",
       "</style>\n",
       "<table border=\"1\" class=\"dataframe\">\n",
       "  <thead>\n",
       "    <tr style=\"text-align: right;\">\n",
       "      <th></th>\n",
       "      <th>Year</th>\n",
       "      <th>Month</th>\n",
       "      <th>Inflation_Rate</th>\n",
       "      <th>Crude Oil Price</th>\n",
       "      <th>Production</th>\n",
       "      <th>Crude Oil Export</th>\n",
       "      <th>CPI_Food</th>\n",
       "      <th>CPI_Energy</th>\n",
       "      <th>CPI_Health</th>\n",
       "      <th>CPI_Transport</th>\n",
       "      <th>CPI_Communication</th>\n",
       "      <th>CPI_Education</th>\n",
       "      <th>Date</th>\n",
       "    </tr>\n",
       "  </thead>\n",
       "  <tbody>\n",
       "    <tr>\n",
       "      <th>0</th>\n",
       "      <td>2008</td>\n",
       "      <td>1</td>\n",
       "      <td>8.6</td>\n",
       "      <td>94.26</td>\n",
       "      <td>2.17</td>\n",
       "      <td>1.72</td>\n",
       "      <td>75.534431</td>\n",
       "      <td>84.612846</td>\n",
       "      <td>83.863139</td>\n",
       "      <td>86.530038</td>\n",
       "      <td>83.129440</td>\n",
       "      <td>75.284466</td>\n",
       "      <td>2008-01-01</td>\n",
       "    </tr>\n",
       "    <tr>\n",
       "      <th>1</th>\n",
       "      <td>2008</td>\n",
       "      <td>2</td>\n",
       "      <td>8.0</td>\n",
       "      <td>98.15</td>\n",
       "      <td>2.08</td>\n",
       "      <td>1.63</td>\n",
       "      <td>75.154185</td>\n",
       "      <td>85.231632</td>\n",
       "      <td>83.365891</td>\n",
       "      <td>88.355236</td>\n",
       "      <td>82.889814</td>\n",
       "      <td>75.457619</td>\n",
       "      <td>2008-02-01</td>\n",
       "    </tr>\n",
       "    <tr>\n",
       "      <th>2</th>\n",
       "      <td>2008</td>\n",
       "      <td>3</td>\n",
       "      <td>7.8</td>\n",
       "      <td>103.73</td>\n",
       "      <td>2.06</td>\n",
       "      <td>1.61</td>\n",
       "      <td>78.242523</td>\n",
       "      <td>83.251516</td>\n",
       "      <td>86.082993</td>\n",
       "      <td>84.376304</td>\n",
       "      <td>81.893471</td>\n",
       "      <td>74.826847</td>\n",
       "      <td>2008-03-01</td>\n",
       "    </tr>\n",
       "    <tr>\n",
       "      <th>3</th>\n",
       "      <td>2008</td>\n",
       "      <td>4</td>\n",
       "      <td>8.2</td>\n",
       "      <td>116.73</td>\n",
       "      <td>1.96</td>\n",
       "      <td>1.51</td>\n",
       "      <td>79.434268</td>\n",
       "      <td>84.348830</td>\n",
       "      <td>89.445332</td>\n",
       "      <td>88.600334</td>\n",
       "      <td>93.937865</td>\n",
       "      <td>73.664248</td>\n",
       "      <td>2008-04-01</td>\n",
       "    </tr>\n",
       "    <tr>\n",
       "      <th>4</th>\n",
       "      <td>2008</td>\n",
       "      <td>5</td>\n",
       "      <td>9.7</td>\n",
       "      <td>126.57</td>\n",
       "      <td>2.05</td>\n",
       "      <td>1.60</td>\n",
       "      <td>80.783677</td>\n",
       "      <td>85.574027</td>\n",
       "      <td>90.540461</td>\n",
       "      <td>87.932833</td>\n",
       "      <td>97.553285</td>\n",
       "      <td>74.880442</td>\n",
       "      <td>2008-05-01</td>\n",
       "    </tr>\n",
       "  </tbody>\n",
       "</table>\n",
       "</div>"
      ],
      "text/plain": [
       "   Year  Month  Inflation_Rate  Crude Oil Price  Production  Crude Oil Export  \\\n",
       "0  2008      1             8.6            94.26        2.17              1.72   \n",
       "1  2008      2             8.0            98.15        2.08              1.63   \n",
       "2  2008      3             7.8           103.73        2.06              1.61   \n",
       "3  2008      4             8.2           116.73        1.96              1.51   \n",
       "4  2008      5             9.7           126.57        2.05              1.60   \n",
       "\n",
       "    CPI_Food  CPI_Energy  CPI_Health  CPI_Transport  CPI_Communication  \\\n",
       "0  75.534431   84.612846   83.863139      86.530038          83.129440   \n",
       "1  75.154185   85.231632   83.365891      88.355236          82.889814   \n",
       "2  78.242523   83.251516   86.082993      84.376304          81.893471   \n",
       "3  79.434268   84.348830   89.445332      88.600334          93.937865   \n",
       "4  80.783677   85.574027   90.540461      87.932833          97.553285   \n",
       "\n",
       "   CPI_Education       Date  \n",
       "0      75.284466 2008-01-01  \n",
       "1      75.457619 2008-02-01  \n",
       "2      74.826847 2008-03-01  \n",
       "3      73.664248 2008-04-01  \n",
       "4      74.880442 2008-05-01  "
      ]
     },
     "execution_count": 12,
     "metadata": {},
     "output_type": "execute_result"
    }
   ],
   "source": [
    "# checking again for the new added column which is Date\n",
    "df.head(5)"
   ]
  },
  {
   "cell_type": "markdown",
   "id": "2a8b7936-7c2d-48d9-a964-7349aa2684a1",
   "metadata": {},
   "source": [
    "### Filtering The Main Focus Of The Analysis "
   ]
  },
  {
   "cell_type": "code",
   "execution_count": 13,
   "id": "b49ce12c-9540-4b95-bc8e-e404d5ab5d09",
   "metadata": {},
   "outputs": [],
   "source": [
    "# Filtering 2015–2025 period for consistency\n",
    "df_filtered = df[(df['Date'] >= '2015') & (df['Date'] < '2024')]"
   ]
  },
  {
   "cell_type": "markdown",
   "id": "7983d64c-795e-4364-825f-60b0dfed87d2",
   "metadata": {},
   "source": [
    "### Checking The Shape Of The Filtered Data"
   ]
  },
  {
   "cell_type": "code",
   "execution_count": 14,
   "id": "5cf52ab0-bd32-42b3-93d9-6bb1b8d13f1c",
   "metadata": {},
   "outputs": [
    {
     "data": {
      "text/plain": [
       "(108, 13)"
      ]
     },
     "execution_count": 14,
     "metadata": {},
     "output_type": "execute_result"
    }
   ],
   "source": [
    "# checking the number of rows and columns after again Filtering 2015–2025\n",
    "df_filtered.shape"
   ]
  },
  {
   "cell_type": "code",
   "execution_count": null,
   "id": "3780a52a-c469-4f9f-80df-7eb5ff329b60",
   "metadata": {},
   "outputs": [],
   "source": []
  },
  {
   "cell_type": "markdown",
   "id": "4725ce90-f315-47a9-bbe3-30e9903fff46",
   "metadata": {},
   "source": [
    "### Feature Engineering\n",
    "Created new features:\n",
    "\n",
    "Inflation_Change: Month-to-month difference  \n",
    "Trend: Rising, Falling, or Stable inflation  \n",
    "Date: Combined Year and Month for time-series analysis  \n",
    "Converted numeric month to month abbreviations (`Jan`, `Feb`, …, `Dec`)"
   ]
  },
  {
   "cell_type": "code",
   "execution_count": 15,
   "id": "1ab2dda5-93fb-496f-b223-e6f735d1ef2e",
   "metadata": {},
   "outputs": [
    {
     "data": {
      "text/html": [
       "<div>\n",
       "<style scoped>\n",
       "    .dataframe tbody tr th:only-of-type {\n",
       "        vertical-align: middle;\n",
       "    }\n",
       "\n",
       "    .dataframe tbody tr th {\n",
       "        vertical-align: top;\n",
       "    }\n",
       "\n",
       "    .dataframe thead th {\n",
       "        text-align: right;\n",
       "    }\n",
       "</style>\n",
       "<table border=\"1\" class=\"dataframe\">\n",
       "  <thead>\n",
       "    <tr style=\"text-align: right;\">\n",
       "      <th></th>\n",
       "      <th>Year</th>\n",
       "      <th>Month</th>\n",
       "      <th>Inflation_Rate</th>\n",
       "      <th>Inflation_Change</th>\n",
       "      <th>Trend</th>\n",
       "    </tr>\n",
       "  </thead>\n",
       "  <tbody>\n",
       "    <tr>\n",
       "      <th>0</th>\n",
       "      <td>2015</td>\n",
       "      <td>Jan</td>\n",
       "      <td>8.20</td>\n",
       "      <td>0.00</td>\n",
       "      <td>Stable</td>\n",
       "    </tr>\n",
       "    <tr>\n",
       "      <th>1</th>\n",
       "      <td>2015</td>\n",
       "      <td>Feb</td>\n",
       "      <td>8.40</td>\n",
       "      <td>0.20</td>\n",
       "      <td>Rising</td>\n",
       "    </tr>\n",
       "    <tr>\n",
       "      <th>2</th>\n",
       "      <td>2015</td>\n",
       "      <td>Mar</td>\n",
       "      <td>8.50</td>\n",
       "      <td>0.10</td>\n",
       "      <td>Rising</td>\n",
       "    </tr>\n",
       "    <tr>\n",
       "      <th>3</th>\n",
       "      <td>2015</td>\n",
       "      <td>Apr</td>\n",
       "      <td>8.70</td>\n",
       "      <td>0.20</td>\n",
       "      <td>Rising</td>\n",
       "    </tr>\n",
       "    <tr>\n",
       "      <th>4</th>\n",
       "      <td>2015</td>\n",
       "      <td>May</td>\n",
       "      <td>9.00</td>\n",
       "      <td>0.30</td>\n",
       "      <td>Rising</td>\n",
       "    </tr>\n",
       "    <tr>\n",
       "      <th>5</th>\n",
       "      <td>2015</td>\n",
       "      <td>Jun</td>\n",
       "      <td>9.20</td>\n",
       "      <td>0.20</td>\n",
       "      <td>Rising</td>\n",
       "    </tr>\n",
       "    <tr>\n",
       "      <th>6</th>\n",
       "      <td>2015</td>\n",
       "      <td>Jul</td>\n",
       "      <td>9.20</td>\n",
       "      <td>0.00</td>\n",
       "      <td>Stable</td>\n",
       "    </tr>\n",
       "    <tr>\n",
       "      <th>7</th>\n",
       "      <td>2015</td>\n",
       "      <td>Aug</td>\n",
       "      <td>9.30</td>\n",
       "      <td>0.10</td>\n",
       "      <td>Rising</td>\n",
       "    </tr>\n",
       "    <tr>\n",
       "      <th>8</th>\n",
       "      <td>2015</td>\n",
       "      <td>Sep</td>\n",
       "      <td>9.40</td>\n",
       "      <td>0.10</td>\n",
       "      <td>Rising</td>\n",
       "    </tr>\n",
       "    <tr>\n",
       "      <th>9</th>\n",
       "      <td>2015</td>\n",
       "      <td>Oct</td>\n",
       "      <td>9.30</td>\n",
       "      <td>-0.10</td>\n",
       "      <td>Falling</td>\n",
       "    </tr>\n",
       "    <tr>\n",
       "      <th>10</th>\n",
       "      <td>2015</td>\n",
       "      <td>Nov</td>\n",
       "      <td>9.37</td>\n",
       "      <td>0.07</td>\n",
       "      <td>Rising</td>\n",
       "    </tr>\n",
       "    <tr>\n",
       "      <th>11</th>\n",
       "      <td>2015</td>\n",
       "      <td>Dec</td>\n",
       "      <td>9.55</td>\n",
       "      <td>0.18</td>\n",
       "      <td>Rising</td>\n",
       "    </tr>\n",
       "    <tr>\n",
       "      <th>12</th>\n",
       "      <td>2016</td>\n",
       "      <td>Jan</td>\n",
       "      <td>9.62</td>\n",
       "      <td>0.07</td>\n",
       "      <td>Rising</td>\n",
       "    </tr>\n",
       "    <tr>\n",
       "      <th>13</th>\n",
       "      <td>2016</td>\n",
       "      <td>Feb</td>\n",
       "      <td>11.38</td>\n",
       "      <td>1.76</td>\n",
       "      <td>Rising</td>\n",
       "    </tr>\n",
       "    <tr>\n",
       "      <th>14</th>\n",
       "      <td>2016</td>\n",
       "      <td>Mar</td>\n",
       "      <td>12.77</td>\n",
       "      <td>1.39</td>\n",
       "      <td>Rising</td>\n",
       "    </tr>\n",
       "  </tbody>\n",
       "</table>\n",
       "</div>"
      ],
      "text/plain": [
       "    Year Month  Inflation_Rate  Inflation_Change    Trend\n",
       "0   2015   Jan            8.20              0.00   Stable\n",
       "1   2015   Feb            8.40              0.20   Rising\n",
       "2   2015   Mar            8.50              0.10   Rising\n",
       "3   2015   Apr            8.70              0.20   Rising\n",
       "4   2015   May            9.00              0.30   Rising\n",
       "5   2015   Jun            9.20              0.20   Rising\n",
       "6   2015   Jul            9.20              0.00   Stable\n",
       "7   2015   Aug            9.30              0.10   Rising\n",
       "8   2015   Sep            9.40              0.10   Rising\n",
       "9   2015   Oct            9.30             -0.10  Falling\n",
       "10  2015   Nov            9.37              0.07   Rising\n",
       "11  2015   Dec            9.55              0.18   Rising\n",
       "12  2016   Jan            9.62              0.07   Rising\n",
       "13  2016   Feb           11.38              1.76   Rising\n",
       "14  2016   Mar           12.77              1.39   Rising"
      ]
     },
     "execution_count": 15,
     "metadata": {},
     "output_type": "execute_result"
    }
   ],
   "source": [
    "# Sort the dataframe by Year and Month, then reset the index\n",
    "df_filtered = df_filtered.sort_values(['Year', 'Month']).reset_index(drop=True)\n",
    "\n",
    "# Calculate the change in inflation rate from the previous month and fill NaN values with 0\n",
    "df_filtered['Inflation_Change'] = df_filtered['Inflation_Rate'].diff().fillna(0)\n",
    "\n",
    "# Determine the trend of inflation (Rising, Falling, or Stable) based on the change\n",
    "df_filtered['Trend'] = df_filtered['Inflation_Change'].apply(lambda x: 'Rising' if x > 0 else ('Falling' if x < 0 else 'Stable'))\n",
    "\n",
    "# Convert month numbers to abbreviated month names (e.g., 1 -> 'Jan')\n",
    "df_filtered['Month'] = df_filtered['Month'].apply(lambda x: calendar.month_abbr[x])\n",
    "\n",
    "# Display the first 5 rows of the dataframe with selected columns\n",
    "df_filtered[['Year', 'Month', 'Inflation_Rate', 'Inflation_Change', 'Trend']].head(15)"
   ]
  },
  {
   "cell_type": "markdown",
   "id": "be5c8b67-e263-4c80-a460-adba8a8e3d9b",
   "metadata": {},
   "source": [
    "# Exploratory Data Analysis (EDA):"
   ]
  },
  {
   "cell_type": "markdown",
   "id": "a3e44f68-a72a-4e50-961e-5ef61fe25604",
   "metadata": {},
   "source": [
    "### Maximum Inflation\n",
    "The highest recorded inflation rate was 28.92% in the year 2023, indicating a peak in price increases during that period."
   ]
  },
  {
   "cell_type": "code",
   "execution_count": 16,
   "id": "18824d91-ae7c-41b0-b090-2539b926d6fc",
   "metadata": {},
   "outputs": [
    {
     "data": {
      "text/plain": [
       "(28.92, np.int64(2023))"
      ]
     },
     "execution_count": 16,
     "metadata": {},
     "output_type": "execute_result"
    }
   ],
   "source": [
    "# Find the maximum inflation value and its year\n",
    "max_inflation_value = df_filtered['Inflation_Rate'].max()\n",
    "max_inflation_year = df_filtered[df_filtered['Inflation_Rate'] == max_inflation_value]['Year'].values[0]\n",
    "\n",
    "max_inflation_value, max_inflation_year"
   ]
  },
  {
   "cell_type": "markdown",
   "id": "8bbb39e0-70c9-4ebc-b601-f6987c05fc19",
   "metadata": {},
   "source": [
    "### Minimum Inflation\n",
    "The lowest recorded inflation rate was 8.2 in the year 2015, indicating the period of least price increase."
   ]
  },
  {
   "cell_type": "code",
   "execution_count": 17,
   "id": "90377d45-52df-4de7-80b0-a70e521bb95f",
   "metadata": {},
   "outputs": [
    {
     "data": {
      "text/plain": [
       "(8.2, np.int64(2015))"
      ]
     },
     "execution_count": 17,
     "metadata": {},
     "output_type": "execute_result"
    }
   ],
   "source": [
    "# Find the minimum inflation value\n",
    "min_inflation = df_filtered['Inflation_Rate'].min()\n",
    "min_inflation_year = df_filtered[df_filtered['Inflation_Rate'] == min_inflation]['Year'].values[0]\n",
    "\n",
    "min_inflation, min_inflation_year"
   ]
  },
  {
   "cell_type": "markdown",
   "id": "0cb86e2b-ce5b-403a-8124-c74f637927ab",
   "metadata": {},
   "source": [
    "### Average Inflation\n",
    "The overall average inflation rate was 15.36, with the year 2017 being closest to this average."
   ]
  },
  {
   "cell_type": "code",
   "execution_count": 18,
   "id": "b7fe34cf-3d66-4877-952e-c2f6467cce22",
   "metadata": {},
   "outputs": [
    {
     "data": {
      "text/plain": [
       "(np.float64(15.36), np.int64(2017))"
      ]
     },
     "execution_count": 18,
     "metadata": {},
     "output_type": "execute_result"
    }
   ],
   "source": [
    "# Overall average inflation\n",
    "avg_inflation = df_filtered['Inflation_Rate'].mean().round(2)\n",
    "\n",
    "# Find the year closest to the average inflation\n",
    "avg_inflation_year = df_filtered.iloc[(df_filtered['Inflation_Rate'] - avg_inflation).abs().argmin()]['Year']\n",
    "\n",
    "avg_inflation, avg_inflation_year"
   ]
  },
  {
   "cell_type": "markdown",
   "id": "2b90ff73-515d-4652-982d-5d1e04af7240",
   "metadata": {},
   "source": [
    "### Standard deviation = 4.68%\n",
    "Indicates moderate volatility: inflation fluctuates noticeably with occasional spikes (28.92%) and periods of relative calm."
   ]
  },
  {
   "cell_type": "code",
   "execution_count": 19,
   "id": "f4bea985-682d-4850-831c-38497d58cd87",
   "metadata": {},
   "outputs": [
    {
     "data": {
      "text/plain": [
       "4.686537375485675"
      ]
     },
     "execution_count": 19,
     "metadata": {},
     "output_type": "execute_result"
    }
   ],
   "source": [
    "# Calculate the standard deviation of the Inflation_Rate column \n",
    "# This measures how much the inflation rates vary from the mean value\n",
    "df_filtered['Inflation_Rate'].std()"
   ]
  },
  {
   "cell_type": "markdown",
   "id": "4f9d0294-63f8-478f-850d-d8440771d012",
   "metadata": {},
   "source": [
    "### Inflation Descriptive Statistics"
   ]
  },
  {
   "cell_type": "code",
   "execution_count": 20,
   "id": "d4d69079-c2da-4e87-b69b-68a318092727",
   "metadata": {},
   "outputs": [
    {
     "data": {
      "text/plain": [
       "count    108.000000\n",
       "mean      15.355370\n",
       "std        4.686537\n",
       "min        8.200000\n",
       "25%       11.377500\n",
       "50%       15.590000\n",
       "75%       17.797500\n",
       "max       28.920000\n",
       "Name: Inflation_Rate, dtype: float64"
      ]
     },
     "execution_count": 20,
     "metadata": {},
     "output_type": "execute_result"
    }
   ],
   "source": [
    "# Calculating summary statistics for the 'Inflation_Rate'\n",
    "# to understand count, mean, std, min, 25%, 50%, 75%, and max values\n",
    "df_filtered['Inflation_Rate'].describe()"
   ]
  },
  {
   "cell_type": "markdown",
   "id": "2545e800-f564-4b1b-9ff8-97361dffe11e",
   "metadata": {},
   "source": [
    "### Monthly Inflation Averages\n",
    "The table shows the average inflation rate for each year and month \n",
    "helping identify seasonal trends and patterns in inflation over time."
   ]
  },
  {
   "cell_type": "code",
   "execution_count": 21,
   "id": "2d73da2e-3591-445b-8c32-492718d7eadd",
   "metadata": {},
   "outputs": [
    {
     "data": {
      "text/html": [
       "<div>\n",
       "<style scoped>\n",
       "    .dataframe tbody tr th:only-of-type {\n",
       "        vertical-align: middle;\n",
       "    }\n",
       "\n",
       "    .dataframe tbody tr th {\n",
       "        vertical-align: top;\n",
       "    }\n",
       "\n",
       "    .dataframe thead th {\n",
       "        text-align: right;\n",
       "    }\n",
       "</style>\n",
       "<table border=\"1\" class=\"dataframe\">\n",
       "  <thead>\n",
       "    <tr style=\"text-align: right;\">\n",
       "      <th></th>\n",
       "      <th>Year</th>\n",
       "      <th>Month</th>\n",
       "      <th>Inflation_Rate</th>\n",
       "    </tr>\n",
       "  </thead>\n",
       "  <tbody>\n",
       "    <tr>\n",
       "      <th>0</th>\n",
       "      <td>2015</td>\n",
       "      <td>Apr</td>\n",
       "      <td>8.70</td>\n",
       "    </tr>\n",
       "    <tr>\n",
       "      <th>1</th>\n",
       "      <td>2015</td>\n",
       "      <td>Aug</td>\n",
       "      <td>9.30</td>\n",
       "    </tr>\n",
       "    <tr>\n",
       "      <th>2</th>\n",
       "      <td>2015</td>\n",
       "      <td>Dec</td>\n",
       "      <td>9.55</td>\n",
       "    </tr>\n",
       "    <tr>\n",
       "      <th>3</th>\n",
       "      <td>2015</td>\n",
       "      <td>Feb</td>\n",
       "      <td>8.40</td>\n",
       "    </tr>\n",
       "    <tr>\n",
       "      <th>4</th>\n",
       "      <td>2015</td>\n",
       "      <td>Jan</td>\n",
       "      <td>8.20</td>\n",
       "    </tr>\n",
       "    <tr>\n",
       "      <th>...</th>\n",
       "      <td>...</td>\n",
       "      <td>...</td>\n",
       "      <td>...</td>\n",
       "    </tr>\n",
       "    <tr>\n",
       "      <th>103</th>\n",
       "      <td>2023</td>\n",
       "      <td>Mar</td>\n",
       "      <td>22.04</td>\n",
       "    </tr>\n",
       "    <tr>\n",
       "      <th>104</th>\n",
       "      <td>2023</td>\n",
       "      <td>May</td>\n",
       "      <td>22.41</td>\n",
       "    </tr>\n",
       "    <tr>\n",
       "      <th>105</th>\n",
       "      <td>2023</td>\n",
       "      <td>Nov</td>\n",
       "      <td>28.20</td>\n",
       "    </tr>\n",
       "    <tr>\n",
       "      <th>106</th>\n",
       "      <td>2023</td>\n",
       "      <td>Oct</td>\n",
       "      <td>27.33</td>\n",
       "    </tr>\n",
       "    <tr>\n",
       "      <th>107</th>\n",
       "      <td>2023</td>\n",
       "      <td>Sep</td>\n",
       "      <td>26.72</td>\n",
       "    </tr>\n",
       "  </tbody>\n",
       "</table>\n",
       "<p>108 rows × 3 columns</p>\n",
       "</div>"
      ],
      "text/plain": [
       "     Year Month  Inflation_Rate\n",
       "0    2015   Apr            8.70\n",
       "1    2015   Aug            9.30\n",
       "2    2015   Dec            9.55\n",
       "3    2015   Feb            8.40\n",
       "4    2015   Jan            8.20\n",
       "..    ...   ...             ...\n",
       "103  2023   Mar           22.04\n",
       "104  2023   May           22.41\n",
       "105  2023   Nov           28.20\n",
       "106  2023   Oct           27.33\n",
       "107  2023   Sep           26.72\n",
       "\n",
       "[108 rows x 3 columns]"
      ]
     },
     "execution_count": 21,
     "metadata": {},
     "output_type": "execute_result"
    }
   ],
   "source": [
    "# Calculate the average inflation rate for each year-month combination\n",
    "average_inflation_rate_by_year_and_month = df_filtered.groupby(['Year', 'Month'])['Inflation_Rate'].mean().reset_index()\n",
    "average_inflation_rate_by_year_and_month"
   ]
  },
  {
   "cell_type": "markdown",
   "id": "d2486dd7-26b2-433f-95a4-2852d498ea0d",
   "metadata": {},
   "source": [
    "### Correlation Analysis Summary:\n",
    "Inflation rises with CPI components, declines with Production/Exports.\n",
    "\n",
    "CPI components move together strongly.\n",
    "\n",
    "Oil price moderately influences inflation.\n",
    "\n",
    "Production & Exports are negatively linked to Inflation."
   ]
  },
  {
   "cell_type": "code",
   "execution_count": 22,
   "id": "76a98b50-f8db-4393-8287-f767856418cb",
   "metadata": {},
   "outputs": [
    {
     "data": {
      "text/html": [
       "<div>\n",
       "<style scoped>\n",
       "    .dataframe tbody tr th:only-of-type {\n",
       "        vertical-align: middle;\n",
       "    }\n",
       "\n",
       "    .dataframe tbody tr th {\n",
       "        vertical-align: top;\n",
       "    }\n",
       "\n",
       "    .dataframe thead th {\n",
       "        text-align: right;\n",
       "    }\n",
       "</style>\n",
       "<table border=\"1\" class=\"dataframe\">\n",
       "  <thead>\n",
       "    <tr style=\"text-align: right;\">\n",
       "      <th></th>\n",
       "      <th>Year</th>\n",
       "      <th>Inflation_Rate</th>\n",
       "      <th>Crude Oil Price</th>\n",
       "      <th>Production</th>\n",
       "      <th>Crude Oil Export</th>\n",
       "      <th>CPI_Food</th>\n",
       "      <th>CPI_Energy</th>\n",
       "      <th>CPI_Health</th>\n",
       "      <th>CPI_Transport</th>\n",
       "      <th>CPI_Communication</th>\n",
       "      <th>CPI_Education</th>\n",
       "      <th>Inflation_Change</th>\n",
       "    </tr>\n",
       "  </thead>\n",
       "  <tbody>\n",
       "    <tr>\n",
       "      <th>Year</th>\n",
       "      <td>1.00</td>\n",
       "      <td>0.68</td>\n",
       "      <td>0.64</td>\n",
       "      <td>-0.81</td>\n",
       "      <td>-0.81</td>\n",
       "      <td>0.95</td>\n",
       "      <td>0.96</td>\n",
       "      <td>0.95</td>\n",
       "      <td>0.95</td>\n",
       "      <td>0.97</td>\n",
       "      <td>0.97</td>\n",
       "      <td>0.19</td>\n",
       "    </tr>\n",
       "    <tr>\n",
       "      <th>Inflation_Rate</th>\n",
       "      <td>0.68</td>\n",
       "      <td>1.00</td>\n",
       "      <td>0.47</td>\n",
       "      <td>-0.78</td>\n",
       "      <td>-0.78</td>\n",
       "      <td>0.80</td>\n",
       "      <td>0.81</td>\n",
       "      <td>0.79</td>\n",
       "      <td>0.80</td>\n",
       "      <td>0.76</td>\n",
       "      <td>0.79</td>\n",
       "      <td>0.31</td>\n",
       "    </tr>\n",
       "    <tr>\n",
       "      <th>Crude Oil Price</th>\n",
       "      <td>0.64</td>\n",
       "      <td>0.47</td>\n",
       "      <td>1.00</td>\n",
       "      <td>-0.64</td>\n",
       "      <td>-0.64</td>\n",
       "      <td>0.66</td>\n",
       "      <td>0.66</td>\n",
       "      <td>0.67</td>\n",
       "      <td>0.66</td>\n",
       "      <td>0.68</td>\n",
       "      <td>0.66</td>\n",
       "      <td>0.08</td>\n",
       "    </tr>\n",
       "    <tr>\n",
       "      <th>Production</th>\n",
       "      <td>-0.81</td>\n",
       "      <td>-0.78</td>\n",
       "      <td>-0.64</td>\n",
       "      <td>1.00</td>\n",
       "      <td>1.00</td>\n",
       "      <td>-0.83</td>\n",
       "      <td>-0.82</td>\n",
       "      <td>-0.83</td>\n",
       "      <td>-0.82</td>\n",
       "      <td>-0.87</td>\n",
       "      <td>-0.82</td>\n",
       "      <td>-0.29</td>\n",
       "    </tr>\n",
       "    <tr>\n",
       "      <th>Crude Oil Export</th>\n",
       "      <td>-0.81</td>\n",
       "      <td>-0.78</td>\n",
       "      <td>-0.64</td>\n",
       "      <td>1.00</td>\n",
       "      <td>1.00</td>\n",
       "      <td>-0.83</td>\n",
       "      <td>-0.82</td>\n",
       "      <td>-0.83</td>\n",
       "      <td>-0.82</td>\n",
       "      <td>-0.87</td>\n",
       "      <td>-0.82</td>\n",
       "      <td>-0.29</td>\n",
       "    </tr>\n",
       "    <tr>\n",
       "      <th>CPI_Food</th>\n",
       "      <td>0.95</td>\n",
       "      <td>0.80</td>\n",
       "      <td>0.66</td>\n",
       "      <td>-0.83</td>\n",
       "      <td>-0.83</td>\n",
       "      <td>1.00</td>\n",
       "      <td>0.99</td>\n",
       "      <td>1.00</td>\n",
       "      <td>1.00</td>\n",
       "      <td>0.99</td>\n",
       "      <td>1.00</td>\n",
       "      <td>0.29</td>\n",
       "    </tr>\n",
       "    <tr>\n",
       "      <th>CPI_Energy</th>\n",
       "      <td>0.96</td>\n",
       "      <td>0.81</td>\n",
       "      <td>0.66</td>\n",
       "      <td>-0.82</td>\n",
       "      <td>-0.82</td>\n",
       "      <td>0.99</td>\n",
       "      <td>1.00</td>\n",
       "      <td>0.99</td>\n",
       "      <td>1.00</td>\n",
       "      <td>0.98</td>\n",
       "      <td>1.00</td>\n",
       "      <td>0.26</td>\n",
       "    </tr>\n",
       "    <tr>\n",
       "      <th>CPI_Health</th>\n",
       "      <td>0.95</td>\n",
       "      <td>0.79</td>\n",
       "      <td>0.67</td>\n",
       "      <td>-0.83</td>\n",
       "      <td>-0.83</td>\n",
       "      <td>1.00</td>\n",
       "      <td>0.99</td>\n",
       "      <td>1.00</td>\n",
       "      <td>1.00</td>\n",
       "      <td>0.99</td>\n",
       "      <td>1.00</td>\n",
       "      <td>0.28</td>\n",
       "    </tr>\n",
       "    <tr>\n",
       "      <th>CPI_Transport</th>\n",
       "      <td>0.95</td>\n",
       "      <td>0.80</td>\n",
       "      <td>0.66</td>\n",
       "      <td>-0.82</td>\n",
       "      <td>-0.82</td>\n",
       "      <td>1.00</td>\n",
       "      <td>1.00</td>\n",
       "      <td>1.00</td>\n",
       "      <td>1.00</td>\n",
       "      <td>0.99</td>\n",
       "      <td>1.00</td>\n",
       "      <td>0.28</td>\n",
       "    </tr>\n",
       "    <tr>\n",
       "      <th>CPI_Communication</th>\n",
       "      <td>0.97</td>\n",
       "      <td>0.76</td>\n",
       "      <td>0.68</td>\n",
       "      <td>-0.87</td>\n",
       "      <td>-0.87</td>\n",
       "      <td>0.99</td>\n",
       "      <td>0.98</td>\n",
       "      <td>0.99</td>\n",
       "      <td>0.99</td>\n",
       "      <td>1.00</td>\n",
       "      <td>0.99</td>\n",
       "      <td>0.28</td>\n",
       "    </tr>\n",
       "    <tr>\n",
       "      <th>CPI_Education</th>\n",
       "      <td>0.97</td>\n",
       "      <td>0.79</td>\n",
       "      <td>0.66</td>\n",
       "      <td>-0.82</td>\n",
       "      <td>-0.82</td>\n",
       "      <td>1.00</td>\n",
       "      <td>1.00</td>\n",
       "      <td>1.00</td>\n",
       "      <td>1.00</td>\n",
       "      <td>0.99</td>\n",
       "      <td>1.00</td>\n",
       "      <td>0.25</td>\n",
       "    </tr>\n",
       "    <tr>\n",
       "      <th>Inflation_Change</th>\n",
       "      <td>0.19</td>\n",
       "      <td>0.31</td>\n",
       "      <td>0.08</td>\n",
       "      <td>-0.29</td>\n",
       "      <td>-0.29</td>\n",
       "      <td>0.29</td>\n",
       "      <td>0.26</td>\n",
       "      <td>0.28</td>\n",
       "      <td>0.28</td>\n",
       "      <td>0.28</td>\n",
       "      <td>0.25</td>\n",
       "      <td>1.00</td>\n",
       "    </tr>\n",
       "  </tbody>\n",
       "</table>\n",
       "</div>"
      ],
      "text/plain": [
       "                   Year  Inflation_Rate  Crude Oil Price  Production  \\\n",
       "Year               1.00            0.68             0.64       -0.81   \n",
       "Inflation_Rate     0.68            1.00             0.47       -0.78   \n",
       "Crude Oil Price    0.64            0.47             1.00       -0.64   \n",
       "Production        -0.81           -0.78            -0.64        1.00   \n",
       "Crude Oil Export  -0.81           -0.78            -0.64        1.00   \n",
       "CPI_Food           0.95            0.80             0.66       -0.83   \n",
       "CPI_Energy         0.96            0.81             0.66       -0.82   \n",
       "CPI_Health         0.95            0.79             0.67       -0.83   \n",
       "CPI_Transport      0.95            0.80             0.66       -0.82   \n",
       "CPI_Communication  0.97            0.76             0.68       -0.87   \n",
       "CPI_Education      0.97            0.79             0.66       -0.82   \n",
       "Inflation_Change   0.19            0.31             0.08       -0.29   \n",
       "\n",
       "                   Crude Oil Export  CPI_Food  CPI_Energy  CPI_Health  \\\n",
       "Year                          -0.81      0.95        0.96        0.95   \n",
       "Inflation_Rate                -0.78      0.80        0.81        0.79   \n",
       "Crude Oil Price               -0.64      0.66        0.66        0.67   \n",
       "Production                     1.00     -0.83       -0.82       -0.83   \n",
       "Crude Oil Export               1.00     -0.83       -0.82       -0.83   \n",
       "CPI_Food                      -0.83      1.00        0.99        1.00   \n",
       "CPI_Energy                    -0.82      0.99        1.00        0.99   \n",
       "CPI_Health                    -0.83      1.00        0.99        1.00   \n",
       "CPI_Transport                 -0.82      1.00        1.00        1.00   \n",
       "CPI_Communication             -0.87      0.99        0.98        0.99   \n",
       "CPI_Education                 -0.82      1.00        1.00        1.00   \n",
       "Inflation_Change              -0.29      0.29        0.26        0.28   \n",
       "\n",
       "                   CPI_Transport  CPI_Communication  CPI_Education  \\\n",
       "Year                        0.95               0.97           0.97   \n",
       "Inflation_Rate              0.80               0.76           0.79   \n",
       "Crude Oil Price             0.66               0.68           0.66   \n",
       "Production                 -0.82              -0.87          -0.82   \n",
       "Crude Oil Export           -0.82              -0.87          -0.82   \n",
       "CPI_Food                    1.00               0.99           1.00   \n",
       "CPI_Energy                  1.00               0.98           1.00   \n",
       "CPI_Health                  1.00               0.99           1.00   \n",
       "CPI_Transport               1.00               0.99           1.00   \n",
       "CPI_Communication           0.99               1.00           0.99   \n",
       "CPI_Education               1.00               0.99           1.00   \n",
       "Inflation_Change            0.28               0.28           0.25   \n",
       "\n",
       "                   Inflation_Change  \n",
       "Year                           0.19  \n",
       "Inflation_Rate                 0.31  \n",
       "Crude Oil Price                0.08  \n",
       "Production                    -0.29  \n",
       "Crude Oil Export              -0.29  \n",
       "CPI_Food                       0.29  \n",
       "CPI_Energy                     0.26  \n",
       "CPI_Health                     0.28  \n",
       "CPI_Transport                  0.28  \n",
       "CPI_Communication              0.28  \n",
       "CPI_Education                  0.25  \n",
       "Inflation_Change               1.00  "
      ]
     },
     "execution_count": 22,
     "metadata": {},
     "output_type": "execute_result"
    }
   ],
   "source": [
    "corr = df_filtered.corr(numeric_only=True).round(2)\n",
    "corr"
   ]
  },
  {
   "cell_type": "markdown",
   "id": "fd3f35a4-6fd9-4078-a875-f117b11d080e",
   "metadata": {},
   "source": [
    "### Year-over-Year Inflation Changes\n",
    "This table shows the average inflation per year and the percentage change compared to the previous year\n",
    "highlighting trends and spikes in inflation over time."
   ]
  },
  {
   "cell_type": "code",
   "execution_count": 23,
   "id": "69104bea-db03-44bd-b4e9-7c444fca6e16",
   "metadata": {},
   "outputs": [
    {
     "data": {
      "text/html": [
       "<div>\n",
       "<style scoped>\n",
       "    .dataframe tbody tr th:only-of-type {\n",
       "        vertical-align: middle;\n",
       "    }\n",
       "\n",
       "    .dataframe tbody tr th {\n",
       "        vertical-align: top;\n",
       "    }\n",
       "\n",
       "    .dataframe thead th {\n",
       "        text-align: right;\n",
       "    }\n",
       "</style>\n",
       "<table border=\"1\" class=\"dataframe\">\n",
       "  <thead>\n",
       "    <tr style=\"text-align: right;\">\n",
       "      <th></th>\n",
       "      <th>Year</th>\n",
       "      <th>Inflation_Rate</th>\n",
       "      <th>year-over-year (%)</th>\n",
       "    </tr>\n",
       "  </thead>\n",
       "  <tbody>\n",
       "    <tr>\n",
       "      <th>0</th>\n",
       "      <td>2015</td>\n",
       "      <td>9.01</td>\n",
       "      <td>0.00</td>\n",
       "    </tr>\n",
       "    <tr>\n",
       "      <th>1</th>\n",
       "      <td>2016</td>\n",
       "      <td>15.62</td>\n",
       "      <td>73.42</td>\n",
       "    </tr>\n",
       "    <tr>\n",
       "      <th>2</th>\n",
       "      <td>2017</td>\n",
       "      <td>16.55</td>\n",
       "      <td>5.90</td>\n",
       "    </tr>\n",
       "    <tr>\n",
       "      <th>3</th>\n",
       "      <td>2018</td>\n",
       "      <td>12.15</td>\n",
       "      <td>-26.60</td>\n",
       "    </tr>\n",
       "    <tr>\n",
       "      <th>4</th>\n",
       "      <td>2019</td>\n",
       "      <td>11.39</td>\n",
       "      <td>-6.21</td>\n",
       "    </tr>\n",
       "    <tr>\n",
       "      <th>5</th>\n",
       "      <td>2020</td>\n",
       "      <td>13.21</td>\n",
       "      <td>15.95</td>\n",
       "    </tr>\n",
       "    <tr>\n",
       "      <th>6</th>\n",
       "      <td>2021</td>\n",
       "      <td>16.98</td>\n",
       "      <td>28.58</td>\n",
       "    </tr>\n",
       "    <tr>\n",
       "      <th>7</th>\n",
       "      <td>2022</td>\n",
       "      <td>18.76</td>\n",
       "      <td>10.49</td>\n",
       "    </tr>\n",
       "    <tr>\n",
       "      <th>8</th>\n",
       "      <td>2023</td>\n",
       "      <td>24.52</td>\n",
       "      <td>30.67</td>\n",
       "    </tr>\n",
       "  </tbody>\n",
       "</table>\n",
       "</div>"
      ],
      "text/plain": [
       "   Year  Inflation_Rate  year-over-year (%)\n",
       "0  2015            9.01                0.00\n",
       "1  2016           15.62               73.42\n",
       "2  2017           16.55                5.90\n",
       "3  2018           12.15              -26.60\n",
       "4  2019           11.39               -6.21\n",
       "5  2020           13.21               15.95\n",
       "6  2021           16.98               28.58\n",
       "7  2022           18.76               10.49\n",
       "8  2023           24.52               30.67"
      ]
     },
     "execution_count": 23,
     "metadata": {},
     "output_type": "execute_result"
    }
   ],
   "source": [
    "# Compare year-over-year (%) inflation changes\n",
    "year_over_year_inflation_changes = df_filtered.groupby('Year')['Inflation_Rate'].mean().reset_index()\n",
    "year_over_year_inflation_changes['year-over-year (%)'] = year_over_year_inflation_changes['Inflation_Rate'].pct_change().fillna(0) * 100\n",
    "year_over_year_inflation_changes = year_over_year_inflation_changes.round(2)\n",
    "\n",
    "year_over_year_inflation_changes"
   ]
  },
  {
   "cell_type": "markdown",
   "id": "e8594096-0a43-4b28-873b-b9effed5a270",
   "metadata": {},
   "source": [
    "### Average Inflation by Month\n",
    "This table shows the average inflation rate for each month\n",
    "revealing seasonal patterns and which months typically experience higher or lower inflation.\n"
   ]
  },
  {
   "cell_type": "code",
   "execution_count": 24,
   "id": "ae54cbed-337c-437d-8933-85a53122b0e0",
   "metadata": {},
   "outputs": [
    {
     "data": {
      "text/html": [
       "<div>\n",
       "<style scoped>\n",
       "    .dataframe tbody tr th:only-of-type {\n",
       "        vertical-align: middle;\n",
       "    }\n",
       "\n",
       "    .dataframe tbody tr th {\n",
       "        vertical-align: top;\n",
       "    }\n",
       "\n",
       "    .dataframe thead th {\n",
       "        text-align: right;\n",
       "    }\n",
       "</style>\n",
       "<table border=\"1\" class=\"dataframe\">\n",
       "  <thead>\n",
       "    <tr style=\"text-align: right;\">\n",
       "      <th></th>\n",
       "      <th>Month</th>\n",
       "      <th>Inflation_Rate</th>\n",
       "    </tr>\n",
       "  </thead>\n",
       "  <tbody>\n",
       "    <tr>\n",
       "      <th>0</th>\n",
       "      <td>Jan</td>\n",
       "      <td>14.34</td>\n",
       "    </tr>\n",
       "    <tr>\n",
       "      <th>1</th>\n",
       "      <td>Feb</td>\n",
       "      <td>14.48</td>\n",
       "    </tr>\n",
       "    <tr>\n",
       "      <th>2</th>\n",
       "      <td>Mar</td>\n",
       "      <td>14.61</td>\n",
       "    </tr>\n",
       "    <tr>\n",
       "      <th>3</th>\n",
       "      <td>Apr</td>\n",
       "      <td>14.78</td>\n",
       "    </tr>\n",
       "    <tr>\n",
       "      <th>4</th>\n",
       "      <td>May</td>\n",
       "      <td>14.92</td>\n",
       "    </tr>\n",
       "    <tr>\n",
       "      <th>5</th>\n",
       "      <td>Jun</td>\n",
       "      <td>15.10</td>\n",
       "    </tr>\n",
       "    <tr>\n",
       "      <th>6</th>\n",
       "      <td>Jul</td>\n",
       "      <td>15.39</td>\n",
       "    </tr>\n",
       "    <tr>\n",
       "      <th>7</th>\n",
       "      <td>Aug</td>\n",
       "      <td>15.75</td>\n",
       "    </tr>\n",
       "    <tr>\n",
       "      <th>8</th>\n",
       "      <td>Sep</td>\n",
       "      <td>15.95</td>\n",
       "    </tr>\n",
       "    <tr>\n",
       "      <th>9</th>\n",
       "      <td>Oct</td>\n",
       "      <td>16.12</td>\n",
       "    </tr>\n",
       "    <tr>\n",
       "      <th>10</th>\n",
       "      <td>Nov</td>\n",
       "      <td>16.32</td>\n",
       "    </tr>\n",
       "    <tr>\n",
       "      <th>11</th>\n",
       "      <td>Dec</td>\n",
       "      <td>16.50</td>\n",
       "    </tr>\n",
       "  </tbody>\n",
       "</table>\n",
       "</div>"
      ],
      "text/plain": [
       "   Month  Inflation_Rate\n",
       "0    Jan           14.34\n",
       "1    Feb           14.48\n",
       "2    Mar           14.61\n",
       "3    Apr           14.78\n",
       "4    May           14.92\n",
       "5    Jun           15.10\n",
       "6    Jul           15.39\n",
       "7    Aug           15.75\n",
       "8    Sep           15.95\n",
       "9    Oct           16.12\n",
       "10   Nov           16.32\n",
       "11   Dec           16.50"
      ]
     },
     "execution_count": 24,
     "metadata": {},
     "output_type": "execute_result"
    }
   ],
   "source": [
    "# Average inflation per month across all years\n",
    "\n",
    "\n",
    "# Define month order\n",
    "month_order = list(calendar.month_abbr)[1:] \n",
    "\n",
    "# Convert Month to Categorical with proper order\n",
    "df_filtered['Month'] = pd.Categorical(df_filtered['Month'], categories=month_order, ordered=True)\n",
    "\n",
    "# Group by Month\n",
    "Average_inflation_per_month = df_filtered.groupby('Month')['Inflation_Rate'].mean().reset_index().round(2)\n",
    "Average_inflation_per_month"
   ]
  },
  {
   "cell_type": "markdown",
   "id": "6fb52022-8a31-4d64-81cc-60f8c0df9833",
   "metadata": {},
   "source": [
    "### Average CPI Components\n",
    "This shows the average contribution of each CPI category to overall inflation \n",
    "highlighting which sectors have the largest impact."
   ]
  },
  {
   "cell_type": "code",
   "execution_count": 25,
   "id": "3440afdb-375d-41ef-9abc-6af3439ca833",
   "metadata": {},
   "outputs": [
    {
     "data": {
      "text/plain": [
       "CPI_Food             363.151562\n",
       "CPI_Energy           299.859618\n",
       "CPI_Transport        292.677695\n",
       "CPI_Education        264.128844\n",
       "CPI_Health           260.314910\n",
       "CPI_Communication    167.201390\n",
       "dtype: float64"
      ]
     },
     "execution_count": 25,
     "metadata": {},
     "output_type": "execute_result"
    }
   ],
   "source": [
    "# Calculate the average value for each CPI category\n",
    "avg_cpi = df_filtered[['CPI_Food','CPI_Energy','CPI_Health','CPI_Transport','CPI_Communication',\n",
    "                       'CPI_Education']].mean().sort_values(ascending=False)\n",
    "avg_cpi"
   ]
  },
  {
   "cell_type": "markdown",
   "id": "564d9da9-4226-45e7-8d7b-65235bc305ae",
   "metadata": {},
   "source": [
    "### Average Inflation by Year\n",
    "This table shows the average inflation rate for each year\n",
    "providing a clear view of annual inflation trends over the period."
   ]
  },
  {
   "cell_type": "code",
   "execution_count": 26,
   "id": "40b7121d-aa8a-4b79-8bb7-7f8feff19d67",
   "metadata": {},
   "outputs": [
    {
     "data": {
      "text/html": [
       "<div>\n",
       "<style scoped>\n",
       "    .dataframe tbody tr th:only-of-type {\n",
       "        vertical-align: middle;\n",
       "    }\n",
       "\n",
       "    .dataframe tbody tr th {\n",
       "        vertical-align: top;\n",
       "    }\n",
       "\n",
       "    .dataframe thead th {\n",
       "        text-align: right;\n",
       "    }\n",
       "</style>\n",
       "<table border=\"1\" class=\"dataframe\">\n",
       "  <thead>\n",
       "    <tr style=\"text-align: right;\">\n",
       "      <th></th>\n",
       "      <th>Year</th>\n",
       "      <th>Inflation_Rate</th>\n",
       "    </tr>\n",
       "  </thead>\n",
       "  <tbody>\n",
       "    <tr>\n",
       "      <th>0</th>\n",
       "      <td>2015</td>\n",
       "      <td>9.01</td>\n",
       "    </tr>\n",
       "    <tr>\n",
       "      <th>1</th>\n",
       "      <td>2016</td>\n",
       "      <td>15.62</td>\n",
       "    </tr>\n",
       "    <tr>\n",
       "      <th>2</th>\n",
       "      <td>2017</td>\n",
       "      <td>16.55</td>\n",
       "    </tr>\n",
       "    <tr>\n",
       "      <th>3</th>\n",
       "      <td>2018</td>\n",
       "      <td>12.15</td>\n",
       "    </tr>\n",
       "    <tr>\n",
       "      <th>4</th>\n",
       "      <td>2019</td>\n",
       "      <td>11.39</td>\n",
       "    </tr>\n",
       "    <tr>\n",
       "      <th>5</th>\n",
       "      <td>2020</td>\n",
       "      <td>13.21</td>\n",
       "    </tr>\n",
       "    <tr>\n",
       "      <th>6</th>\n",
       "      <td>2021</td>\n",
       "      <td>16.98</td>\n",
       "    </tr>\n",
       "    <tr>\n",
       "      <th>7</th>\n",
       "      <td>2022</td>\n",
       "      <td>18.76</td>\n",
       "    </tr>\n",
       "    <tr>\n",
       "      <th>8</th>\n",
       "      <td>2023</td>\n",
       "      <td>24.52</td>\n",
       "    </tr>\n",
       "  </tbody>\n",
       "</table>\n",
       "</div>"
      ],
      "text/plain": [
       "   Year  Inflation_Rate\n",
       "0  2015            9.01\n",
       "1  2016           15.62\n",
       "2  2017           16.55\n",
       "3  2018           12.15\n",
       "4  2019           11.39\n",
       "5  2020           13.21\n",
       "6  2021           16.98\n",
       "7  2022           18.76\n",
       "8  2023           24.52"
      ]
     },
     "execution_count": 26,
     "metadata": {},
     "output_type": "execute_result"
    }
   ],
   "source": [
    "# Calculate the average inflation rate for each year by:\n",
    "average_inflation_rate_by_year  = df_filtered.groupby('Year')['Inflation_Rate'].mean().reset_index().round(2)\n",
    "average_inflation_rate_by_year"
   ]
  },
  {
   "cell_type": "markdown",
   "id": "345ff19c-7e42-46b8-b370-61d6b5ac809a",
   "metadata": {},
   "source": [
    "### Top and Bottom Inflation Years\n",
    "Identifing years with the highest and years with the lowest average inflation rates\n",
    "Illustrating the peaks and troughs of inflation over time."
   ]
  },
  {
   "cell_type": "code",
   "execution_count": 27,
   "id": "ac69e102-d350-4716-9c0c-6b356b061b53",
   "metadata": {},
   "outputs": [
    {
     "name": "stdout",
     "output_type": "stream",
     "text": [
      "Top 5 highest inflation years:\n",
      "    Year  Inflation_Rate\n",
      "8  2023           24.52\n",
      "7  2022           18.76\n",
      "6  2021           16.98\n",
      "2  2017           16.55\n",
      "1  2016           15.62\n",
      "\n",
      "Top 5 lowest inflation years:\n",
      "    Year  Inflation_Rate\n",
      "0  2015            9.01\n",
      "4  2019           11.39\n",
      "3  2018           12.15\n",
      "5  2020           13.21\n",
      "1  2016           15.62\n"
     ]
    }
   ],
   "source": [
    "# Sort inflation data to find years with highest inflation rates and select top 5\n",
    "top_years = average_inflation_rate_by_year.sort_values(by='Inflation_Rate', ascending=False).head(5)\n",
    "\n",
    "# Sort inflation data to find years with lowest inflation rates and select top 5\n",
    "lowest_years = average_inflation_rate_by_year.sort_values(by='Inflation_Rate', ascending=True).head(5)\n",
    "\n",
    "# Display the results\n",
    "print(\"Top 5 highest inflation years:\\n\", top_years)\n",
    "print(\"\\nTop 5 lowest inflation years:\\n\", lowest_years)"
   ]
  },
  {
   "cell_type": "markdown",
   "id": "a82dd879-6f2b-4ccb-a26b-ff0b02675e90",
   "metadata": {},
   "source": [
    "### Inflation Outliers\n",
    "Using the Z-score method, to detect months and years where inflation deviated significantly \n",
    "from the average, highlighting major inflation spikes."
   ]
  },
  {
   "cell_type": "code",
   "execution_count": 28,
   "id": "6c83f50b-f564-479d-99eb-f8abd53f6ced",
   "metadata": {},
   "outputs": [
    {
     "name": "stdout",
     "output_type": "stream",
     "text": [
      "\n",
      "High inflation spikes:\n",
      "      Year Month  Inflation_Rate\n",
      "103  2023   Aug           25.80\n",
      "104  2023   Sep           26.72\n",
      "105  2023   Oct           27.33\n",
      "106  2023   Nov           28.20\n",
      "107  2023   Dec           28.92\n"
     ]
    }
   ],
   "source": [
    "# Calculate z-scores for inflation rates to identify statistical outliers\n",
    "df_filtered['z_score'] = zscore(df_filtered['Inflation_Rate'])\n",
    "\n",
    "# Identify outliers where absolute z-score exceeds 2 (roughly 5% of normal distribution)\n",
    "outliers = df_filtered[df_filtered['z_score'].abs() > 2]  # inflation spikes\n",
    "\n",
    "# Display years, months and inflation rates for these significant inflation anomalies\n",
    "print(\"\\nHigh inflation spikes:\\n\", outliers[['Year','Month','Inflation_Rate']])"
   ]
  },
  {
   "cell_type": "markdown",
   "id": "8c461df4-faef-47d0-ba96-42d9f1305168",
   "metadata": {},
   "source": [
    "### Inflation vs Crude Oil Price Changes\n",
    "Inflation and oil prices exhibit a weak correlation with frequent deviations\n",
    "suggesting that domestic economic factors have a stronger influence on inflation than oil price movements"
   ]
  },
  {
   "cell_type": "code",
   "execution_count": 29,
   "id": "644e752c-656d-4462-ba08-8c0f721cc8ca",
   "metadata": {},
   "outputs": [
    {
     "data": {
      "text/html": [
       "<div>\n",
       "<style scoped>\n",
       "    .dataframe tbody tr th:only-of-type {\n",
       "        vertical-align: middle;\n",
       "    }\n",
       "\n",
       "    .dataframe tbody tr th {\n",
       "        vertical-align: top;\n",
       "    }\n",
       "\n",
       "    .dataframe thead th {\n",
       "        text-align: right;\n",
       "    }\n",
       "</style>\n",
       "<table border=\"1\" class=\"dataframe\">\n",
       "  <thead>\n",
       "    <tr style=\"text-align: right;\">\n",
       "      <th></th>\n",
       "      <th>Year</th>\n",
       "      <th>Inflation_Rate</th>\n",
       "      <th>Crude Oil Price</th>\n",
       "      <th>Inflation_vs_Oil_Change</th>\n",
       "    </tr>\n",
       "  </thead>\n",
       "  <tbody>\n",
       "    <tr>\n",
       "      <th>0</th>\n",
       "      <td>2015</td>\n",
       "      <td>9.01</td>\n",
       "      <td>52.65</td>\n",
       "      <td>0.000000</td>\n",
       "    </tr>\n",
       "    <tr>\n",
       "      <th>1</th>\n",
       "      <td>2016</td>\n",
       "      <td>15.62</td>\n",
       "      <td>43.81</td>\n",
       "      <td>0.901531</td>\n",
       "    </tr>\n",
       "    <tr>\n",
       "      <th>2</th>\n",
       "      <td>2017</td>\n",
       "      <td>16.55</td>\n",
       "      <td>54.09</td>\n",
       "      <td>-0.175111</td>\n",
       "    </tr>\n",
       "    <tr>\n",
       "      <th>3</th>\n",
       "      <td>2018</td>\n",
       "      <td>12.15</td>\n",
       "      <td>72.66</td>\n",
       "      <td>-0.609178</td>\n",
       "    </tr>\n",
       "    <tr>\n",
       "      <th>4</th>\n",
       "      <td>2019</td>\n",
       "      <td>11.39</td>\n",
       "      <td>65.85</td>\n",
       "      <td>0.031173</td>\n",
       "    </tr>\n",
       "    <tr>\n",
       "      <th>5</th>\n",
       "      <td>2020</td>\n",
       "      <td>13.21</td>\n",
       "      <td>41.89</td>\n",
       "      <td>0.523647</td>\n",
       "    </tr>\n",
       "    <tr>\n",
       "      <th>6</th>\n",
       "      <td>2021</td>\n",
       "      <td>16.98</td>\n",
       "      <td>70.12</td>\n",
       "      <td>-0.388518</td>\n",
       "    </tr>\n",
       "    <tr>\n",
       "      <th>7</th>\n",
       "      <td>2022</td>\n",
       "      <td>18.76</td>\n",
       "      <td>104.62</td>\n",
       "      <td>-0.387184</td>\n",
       "    </tr>\n",
       "    <tr>\n",
       "      <th>8</th>\n",
       "      <td>2023</td>\n",
       "      <td>24.52</td>\n",
       "      <td>85.16</td>\n",
       "      <td>0.493043</td>\n",
       "    </tr>\n",
       "  </tbody>\n",
       "</table>\n",
       "</div>"
      ],
      "text/plain": [
       "   Year  Inflation_Rate  Crude Oil Price  Inflation_vs_Oil_Change\n",
       "0  2015            9.01            52.65                 0.000000\n",
       "1  2016           15.62            43.81                 0.901531\n",
       "2  2017           16.55            54.09                -0.175111\n",
       "3  2018           12.15            72.66                -0.609178\n",
       "4  2019           11.39            65.85                 0.031173\n",
       "5  2020           13.21            41.89                 0.523647\n",
       "6  2021           16.98            70.12                -0.388518\n",
       "7  2022           18.76           104.62                -0.387184\n",
       "8  2023           24.52            85.16                 0.493043"
      ]
     },
     "execution_count": 29,
     "metadata": {},
     "output_type": "execute_result"
    }
   ],
   "source": [
    "#Calculate the difference between percentage change in inflation rate and percentage change in crude oil price\n",
    "\n",
    "yearly_comparison = df_filtered.groupby('Year')[['Inflation_Rate', 'Crude Oil Price']].mean().reset_index().round(2)\n",
    "\n",
    "\n",
    "yearly_comparison['Inflation_vs_Oil_Change'] = yearly_comparison['Inflation_Rate'].pct_change().fillna(0) - yearly_comparison['Crude Oil Price'].pct_change().fillna(0)\n",
    "yearly_comparison"
   ]
  },
  {
   "cell_type": "code",
   "execution_count": null,
   "id": "f015ed34-009d-4d48-9a4c-c92e1c470fe0",
   "metadata": {},
   "outputs": [],
   "source": []
  },
  {
   "cell_type": "code",
   "execution_count": 30,
   "id": "b648dd15-4298-41eb-913d-06cf920fae4f",
   "metadata": {},
   "outputs": [],
   "source": [
    "df_filtered.to_csv('NigeriaInflationRates_2015_to_2024.csv', index=False)"
   ]
  }
 ],
 "metadata": {
  "kernelspec": {
   "display_name": "Python [conda env:base] *",
   "language": "python",
   "name": "conda-base-py"
  },
  "language_info": {
   "codemirror_mode": {
    "name": "ipython",
    "version": 3
   },
   "file_extension": ".py",
   "mimetype": "text/x-python",
   "name": "python",
   "nbconvert_exporter": "python",
   "pygments_lexer": "ipython3",
   "version": "3.13.5"
  }
 },
 "nbformat": 4,
 "nbformat_minor": 5
}
